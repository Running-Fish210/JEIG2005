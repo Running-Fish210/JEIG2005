{
 "cells": [
  {
   "cell_type": "markdown",
   "id": "04723e6c-0a7e-4a5a-b1e6-345b292afeeb",
   "metadata": {},
   "source": [
    "# 厚壁压力容器计算"
   ]
  },
  {
   "cell_type": "code",
   "execution_count": 1,
   "id": "95912122-a545-4b89-873e-29d6c6f5286a",
   "metadata": {},
   "outputs": [],
   "source": [
    "%reset -f\n",
    "import numpy as np\n",
    "from numpy.linalg.linalg import solve \n",
    "\n",
    "def sfa (ri, rm, ro, Ei, vi, Eo, vo, itf=0, pi=0, po=0):\n",
    "    ''' \n",
    "    这个函数用来计算过盈配合\n",
    "    \n",
    "    ri, rm, ro : 内径, 中径， 外径\n",
    "    Ei, vi：内零件杨氏模量与泊松比\n",
    "    Eo, vo: 外零件杨氏模量与泊松比\n",
    "    itf: 可选参数, 过盈尺寸\n",
    "    pi, po: 可选参数, 内外压力, 默认为零\n",
    "   ------------------------------- 输出结果数量级为10^6\n",
    "    '''\n",
    "    if ri == 0:\n",
    "        if itf == 0: ## 需要计算 itf，pi值需要输入既为配合界面压强\n",
    "            A = np.array([[1, 0, 0],\n",
    "                          [0, 1, -1/rm**2],\n",
    "                          [0, 1, -1/ro**2]])\n",
    "            b = np.array([[-pi, -pi, -po]]).T\n",
    "            x = solve(A, b)  # [A, C, D]\n",
    "            itf = np.sum(np.array([[-(1-vi)/Ei, (1-vo)/Eo, (1+vo)/(Eo*rm**2)]]).T * x) * rm * 10**3\n",
    "            print(f'过盈尺寸={itf}mm\\n')\n",
    "            x = np.insert(x, 1, [0], axis=0)\n",
    "        else: ## 给出 itf 需要计算配合压强 pi\n",
    "            A = np.array([[0, 1, -1/ro**2],\n",
    "                          [1, -1, 1/rm**2],\n",
    "                          [-1*(1-vi)/Ei, (1-vo)/Eo, (1+vo)/(Eo*rm**2)]])\n",
    "            b = np.array([[-po, 0, itf/rm]]).T\n",
    "            x = solve(A,b)\n",
    "            print(f'界面与内部压强={x[0] / 1e6}MPa\\n')\n",
    "            x = np.insert(x, 1, [0], axis=0)\n",
    "    else:\n",
    "        A = np.array([[1, -1/ri**2, 0, 0], \n",
    "                      [0, 0, 1, -1/ro**2],\n",
    "                      [1, -1/rm**2, -1, 1/rm**2],\n",
    "                      [-1*(1-vi)/Ei, -(1+vi)/(Ei*rm**2), (1-vo)/Eo, (1+vo)/(Eo*rm**2)]])\n",
    "        b = np.array([[-pi, -po, 0, itf/rm]]).T\n",
    "        x = solve(A,b)\n",
    "\n",
    "    if ri==0:\n",
    "        stress_h_ri = x[0]\n",
    "    else:\n",
    "        stress_h_ri = x[0] + x[1] / ri**2\n",
    "        \n",
    "    stress_r_rm = x[0] - x[1] / rm**2\n",
    "    stress_h_rm_i = x[0] + x[1] / rm**2\n",
    "    stress_h_rm_o = x[2] + x[3] / rm**2\n",
    "    stress_h_ro = x[2] + x[3] / ro**2\n",
    "    \n",
    "    if stress_h_ri > stress_h_rm_o:\n",
    "        shm = stress_h_ri\n",
    "        sr_ = -pi\n",
    "        rc = 'ri'\n",
    "    elif stress_h_ri < stress_h_rm_o:\n",
    "        shm = stress_h_rm_o\n",
    "        sr_ = stress_r_rm\n",
    "        rc = 'rm'\n",
    "    sz = 0 # z方向应力未指定 默认为0\n",
    "    VonStress = np.sqrt(((shm - sr_)**2 + (sr_ - sz)**2 + (sz - shm)**2) / 2)\n",
    "    Tresca = shm - sr_\n",
    "        \n",
    "    print(f'系数为\\n{x / 1e6}10^6\\n')\n",
    "    print(f'内环 内径处 径向和环向压强分别为 {-pi / 1e6}MPa, {stress_h_ri / 1e6}MPa\\n')\n",
    "    print(f'配合处 径向 配和压强为 {stress_r_rm / 1e6}MPa\\n')\n",
    "    print(f'配合处 内外 环向 压强分别为 {stress_h_rm_i / 1e6}MPa, {stress_h_rm_o / 1e6}MPa\\n')\n",
    "    print(f'外环 外径处 径向和环向压强分别为 {-po / 1e6}MPa, {stress_h_ro / 1e6}MPa\\n')\n",
    "    print(f'最大环向应力 = {shm / 1e6}MPa, 对应位置为 {rc} (危险点)')\n",
    "    print(f'Von Mises Criteria = {VonStress / 1e6}MPa')\n",
    "    print(f'Tresca Criteria = {Tresca / 1e6}MPa')\n",
    "    \n",
    "    return x\n"
   ]
  },
  {
   "cell_type": "code",
   "execution_count": 3,
   "id": "9432ddb3-b587-4c20-8670-c6a47572cd6a",
   "metadata": {},
   "outputs": [
    {
     "name": "stdout",
     "output_type": "stream",
     "text": [
      "系数为\n",
      "[[1.54166667e+00]\n",
      " [2.21354167e-03]\n",
      " [2.54166667e+00]\n",
      " [3.11354167e-03]]10^6\n",
      "\n",
      "内环 内径处 径向和环向压强分别为 -2.0MPa, [5.08333333]MPa\n",
      "\n",
      "配合处 径向 配和压强为 [-0.91782407]MPa\n",
      "\n",
      "配合处 内外 环向 压强分别为 [4.00115741]MPa, [6.00115741]MPa\n",
      "\n",
      "外环 外径处 径向和环向压强分别为 -0.0MPa, [5.08333333]MPa\n",
      "\n",
      "最大环向应力 = [6.00115741]MPa, 对应位置为 rm (危险点)\n",
      "Von Mises Criteria = [6.50878622]MPa\n",
      "Tresca Criteria = [6.91898148]MPa\n"
     ]
    }
   ],
   "source": [
    "A, B, C, D = sfa(ri=0.05/2, rm=0.06/2, ro=0.07/2, Ei=3e9, vi=0.32, Eo=3e9, vo=0.32, itf=0.02e-3, pi=20e5, po=0e6)"
   ]
  },
  {
   "cell_type": "code",
   "execution_count": null,
   "id": "35c02187-63f2-48d3-a37b-4f9ad4c24c4b",
   "metadata": {},
   "outputs": [],
   "source": []
  },
  {
   "cell_type": "code",
   "execution_count": null,
   "id": "a652994f-5aea-4e0a-ab2e-71e9ff1a53f0",
   "metadata": {},
   "outputs": [],
   "source": []
  }
 ],
 "metadata": {
  "kernelspec": {
   "display_name": "Python 3 (ipykernel)",
   "language": "python",
   "name": "python3"
  },
  "language_info": {
   "codemirror_mode": {
    "name": "ipython",
    "version": 3
   },
   "file_extension": ".py",
   "mimetype": "text/x-python",
   "name": "python",
   "nbconvert_exporter": "python",
   "pygments_lexer": "ipython3",
   "version": "3.12.4"
  }
 },
 "nbformat": 4,
 "nbformat_minor": 5
}
