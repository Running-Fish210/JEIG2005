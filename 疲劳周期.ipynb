{
 "cells": [
  {
   "cell_type": "code",
   "execution_count": 3,
   "id": "8a882ee6-1636-4f20-a954-d6d047b290b8",
   "metadata": {},
   "outputs": [
    {
     "ename": "SyntaxError",
     "evalue": "invalid syntax (3427898075.py, line 7)",
     "output_type": "error",
     "traceback": [
      "\u001b[1;36m  Cell \u001b[1;32mIn[3], line 7\u001b[1;36m\u001b[0m\n\u001b[1;33m    Delta_sigma =  # 应力范围 (Mpa)\u001b[0m\n\u001b[1;37m                   ^\u001b[0m\n\u001b[1;31mSyntaxError\u001b[0m\u001b[1;31m:\u001b[0m invalid syntax\n"
     ]
    }
   ],
   "source": [
    "%reset -f\n",
    "from scipy.integrate import quad\n",
    "import numpy as np\n",
    "pi = np.pi\n",
    "\n",
    "# 定义参数\n",
    "Delta_sigma =  # 应力范围 (Mpa)\n",
    "sigma_max =    # 最大应力值 (MPa)\n",
    "Kic =   # 临界应力强度因子 (MPa m^0.5)\n",
    "m =   # Paris law exponent\n",
    "A =    # Paris law constant\n",
    "Q =   # Shape factor\n",
    "SF = 2  # 安全系数\n",
    "\n",
    "a_0 =   # 初始裂纹长度 (m)\n",
    "'''一定注意是内部还是表面缺陷'''\n",
    "\n",
    "# 定义 Paris law 中的 da/dN 方程\n",
    "def da_dN(a):\n",
    "    Delta_K = Q * Delta_sigma * np.sqrt(pi * a)\n",
    "    return A * (Delta_K)**m\n",
    "\n",
    "\n",
    "a_crit =  (Kic / Q / sigma_max)**2 / pi   # 临界裂纹长度 (m)\n",
    "\n",
    "# 进行数值积分，计算疲劳周期数\n",
    "N, _ = quad(lambda a: 1/da_dN(a), a_0, a_crit)\n",
    "\n",
    "print(f'a_crit = {a_crit*1e3:.3f} mm')\n",
    "print(f'疲劳周期 = {N}')\n",
    "print(f'安全疲劳周期 = {N/SF:.0f}')"
   ]
  },
  {
   "cell_type": "code",
   "execution_count": null,
   "id": "100aaba7-e7f6-4053-97bb-8d6d09c9306b",
   "metadata": {},
   "outputs": [],
   "source": []
  },
  {
   "cell_type": "code",
   "execution_count": null,
   "id": "31ec2580-851a-4596-bf8e-a228d3e350f4",
   "metadata": {},
   "outputs": [],
   "source": []
  }
 ],
 "metadata": {
  "kernelspec": {
   "display_name": "Python 3 (ipykernel)",
   "language": "python",
   "name": "python3"
  },
  "language_info": {
   "codemirror_mode": {
    "name": "ipython",
    "version": 3
   },
   "file_extension": ".py",
   "mimetype": "text/x-python",
   "name": "python",
   "nbconvert_exporter": "python",
   "pygments_lexer": "ipython3",
   "version": "3.12.4"
  }
 },
 "nbformat": 4,
 "nbformat_minor": 5
}
