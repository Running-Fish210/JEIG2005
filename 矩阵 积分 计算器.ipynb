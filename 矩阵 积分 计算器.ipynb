{
 "cells": [
  {
   "cell_type": "markdown",
   "id": "5507642c-7004-4a37-80bb-8d964880c898",
   "metadata": {},
   "source": [
    "# 矩阵计算"
   ]
  },
  {
   "cell_type": "code",
   "execution_count": null,
   "id": "4156fc93-abb9-4d76-8a7c-1a88d31cf24b",
   "metadata": {},
   "outputs": [],
   "source": [
    "%reset -f\n",
    "import numpy as np\n",
    "from numpy.linalg.linalg import solve "
   ]
  },
  {
   "cell_type": "code",
   "execution_count": null,
   "id": "e191c180-e6eb-475c-8cf7-3c44a2f5407c",
   "metadata": {},
   "outputs": [],
   "source": [
    "A = np.array([[],\n",
    "              [],\n",
    "              [],\n",
    "              []])\n",
    "b = np.array([[]]).T \n",
    "x = solve(A,b)"
   ]
  },
  {
   "cell_type": "code",
   "execution_count": null,
   "id": "668e66e0-3c93-4835-a768-f0536b9b1b1f",
   "metadata": {},
   "outputs": [],
   "source": []
  },
  {
   "cell_type": "markdown",
   "id": "b28cd7d5-706b-4301-b106-708f03cfd2a5",
   "metadata": {},
   "source": [
    "# 积分计算"
   ]
  },
  {
   "cell_type": "code",
   "execution_count": null,
   "id": "116ff984-7ea5-401c-a1b7-eaa73ff9a7de",
   "metadata": {},
   "outputs": [],
   "source": [
    "%reset -f\n",
    "import numpy as np\n",
    "from scipy.integrate import quad\n",
    "pi = np.pi\n",
    "cos, sin, tan = np.cos, np.sin, np.tan\n",
    "arccos, arcsin, arctan = np.arccos, np.arcsin, np.arctan"
   ]
  },
  {
   "cell_type": "code",
   "execution_count": null,
   "id": "3aaac2fc-176c-46f5-90cb-78d1b7a53f99",
   "metadata": {},
   "outputs": [],
   "source": [
    "def f(x):\n",
    "    \"\"\"\n",
    "    \"\"\"\n",
    "    f = \n",
    "    return f\n",
    "\n"
   ]
  },
  {
   "cell_type": "code",
   "execution_count": null,
   "id": "2c69cc72-7841-41ad-aca2-34fa59aa664d",
   "metadata": {},
   "outputs": [],
   "source": [
    "\n",
    "n1, _= quad(f, d, u)"
   ]
  }
 ],
 "metadata": {
  "kernelspec": {
   "display_name": "Python 3 (ipykernel)",
   "language": "python",
   "name": "python3"
  },
  "language_info": {
   "codemirror_mode": {
    "name": "ipython",
    "version": 3
   },
   "file_extension": ".py",
   "mimetype": "text/x-python",
   "name": "python",
   "nbconvert_exporter": "python",
   "pygments_lexer": "ipython3",
   "version": "3.12.4"
  }
 },
 "nbformat": 4,
 "nbformat_minor": 5
}
