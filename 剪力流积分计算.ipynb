{
 "cells": [
  {
   "cell_type": "markdown",
   "id": "a78ce6e4-3e70-4690-83ad-cc501798454e",
   "metadata": {},
   "source": [
    "$q_{12} =q^{s}_{12}  +q_{0} \\Rightarrow F_{12} =\\int_{1}^{2} q^{s}_{12}ds_{12}  + q_{0} s_{12}$\n",
    "\n",
    "$q_{23} =q^{s}_{23} + q_{12}^{s}(2)  +q_{0} \\Rightarrow F_{23} =\\int_{2}^{3} q^{s}_{23}ds_{23}  + q_{12}^{s}(2)s_{23} +q_{0} s_{23}$\n",
    "\n",
    "$q_{34} =q_{34}^{s}  +q^{s}_{23}(3) + q_{12}^{s}(2)  +q_{0} \\Rightarrow F_{23} =\\int_{3}^{4} q^{s}_{34}ds_{34}  + q_{23}^{s}(3)s_{34}+q_{12}^{s}(2)s_{34} +q_{0} s_{34}$"
   ]
  },
  {
   "cell_type": "code",
   "execution_count": 5,
   "id": "63c9b7ff-aaf7-4eb4-8396-9557a94baf0a",
   "metadata": {},
   "outputs": [],
   "source": [
    "%reset -f\n",
    "import numpy as np\n",
    "from scipy.integrate import quad\n",
    "pi = np.pi\n",
    "cos, sin, tan = np.cos, np.sin, np.tan\n",
    "arccos, arcsin, arctan = np.arccos, np.arcsin, np.arctan"
   ]
  },
  {
   "cell_type": "code",
   "execution_count": null,
   "id": "e83a18c1-25c2-4f2c-859b-27f109ab2702",
   "metadata": {},
   "outputs": [],
   "source": [
    "Iyy = \n",
    "Izz = \n",
    "Iyz = \n",
    "\n",
    "Qy, Qz = \n",
    "\n",
    "s12, s23, s34 = "
   ]
  },
  {
   "cell_type": "markdown",
   "id": "c1331f48-1b41-4ea4-b59e-d9a06a9f217e",
   "metadata": {},
   "source": [
    "## 定义剪力流函数"
   ]
  },
  {
   "cell_type": "code",
   "execution_count": null,
   "id": "a120046a-48d9-4c6c-949b-fcecfcd2705b",
   "metadata": {},
   "outputs": [],
   "source": [
    "def q12(s):\n",
    "    \"\"\"\n",
    "    定义12段剪力流函数, 注意没有计入 q0\n",
    "    \"\"\"\n",
    "    f = \n",
    "    return f\n",
    "    \n",
    "def q23(s):\n",
    "    \"\"\"\n",
    "    定义23段剪力流函数, 注意没有计入 q0\n",
    "    \"\"\"\n",
    "    f = \n",
    "    return q12(s12) + f\n",
    "\n",
    "def q34(s):\n",
    "    \"\"\"\n",
    "    定义23段剪力流函数, 注意没有计入 q0\n",
    "    \"\"\"\n",
    "    f = \n",
    "    return q23(s23) + f"
   ]
  },
  {
   "cell_type": "code",
   "execution_count": null,
   "id": "c5dc9baf-000f-443d-a655-c4f6bd2db2a7",
   "metadata": {},
   "outputs": [],
   "source": [
    "# 每段结束的剪力流函数值\n",
    "prints(f's12段结束点剪力流 = {q12(s12)}')\n",
    "prints(f's23段结束点剪力流 = {q23(s23)}')\n",
    "prints(f's34段结束点剪力流 = {q34(s34)}')\n",
    "\n",
    "# 生成各段的离散数据数组\n",
    "s12_ = np.arange(0, s12 + 1e-6, 1e-6)\n",
    "s23_ = np.arange(0, s23 + 1e-6, 1e-6)\n",
    "s34_ = np.arange(0, s34 + 1e-6, 1e-6)\n",
    "\n",
    "# 生成各段的离散剪力流数组\n",
    "q12_ = q12(s12_)\n",
    "q23_ = q23(s23_)\n",
    "q34_ = q34(s34_)\n",
    "\n",
    "# 在误差范文内求各段剪力流函数的最大最小值\n",
    "q12_max = np.array([np.max(q12_), s12_[np.argmax(q12_)]])\n",
    "q12_min = np.array([np.min(q12_), s12_[np.argmin(q12_)]])\n",
    "\n",
    "q23_max = np.array([np.max(q23_), s23_[np.argmax(q23_)]])\n",
    "q23_min = np.array([np.min(q23_), s23_[np.argmin(q23_)]])\n",
    "\n",
    "q34_max = np.array([np.max(q34_), s34_[np.argmax(q34_)]])\n",
    "q34_min = np.array([np.min(q34_), s34_[np.argmin(q34_)]])\n",
    "\n",
    "print(f\"q12 最大值: {q12_max[0]}, 位置: {q12_max[1]}\")\n",
    "print(f\"q12 最小值: {q12_min[0]}, 位置: {q12_min[1]}\")\n",
    "\n",
    "print(f\"q23 最大值: {q23_max[0]}, 位置: {q23_max[1]}\")\n",
    "print(f\"q23 最小值: {q23_min[0]}, 位置: {q23_min[1]}\")\n",
    "\n",
    "print(f\"q34 最大值: {q34_max[0]}, 位置: {q34_max[1]}\")\n",
    "print(f\"q34 最小值: {q34_min[0]}, 位置: {q34_min[1]}\")"
   ]
  },
  {
   "cell_type": "code",
   "execution_count": null,
   "id": "c1c00d96-974f-47f6-8134-57771abeab2d",
   "metadata": {},
   "outputs": [],
   "source": [
    "# 封闭截面无扭转 q0计算\n",
    "n1 = quad(q_12, 0, s12)[0]/t12\n",
    "n2 = quad(q_23, 0, s23)[0]/t23\n",
    "n3 = quad(q_34, 0, s34)[0]/t34\n",
    "\n",
    "# 计算q0\n",
    "q0 = -(n1 + n2 + n3) / (s12/t12 + s23/t23 + s34/t34)"
   ]
  },
  {
   "cell_type": "code",
   "execution_count": null,
   "id": "8fc8cfbe-f6fb-4763-bfc1-d901b88c8634",
   "metadata": {},
   "outputs": [],
   "source": [
    "# 积分各段剪力流函数, 计算剪力\n",
    "f1, _ = quad(q_12, 0, s12)  # + q0 * s12\n",
    "\n",
    "f2, _ = quad(q_23, 0, s23)  # + q0 * s23\n",
    "\n",
    "f3, _ = quad(q_34, 0, s34)  # + q0 * s34"
   ]
  },
  {
   "cell_type": "code",
   "execution_count": null,
   "id": "9a84d288-b78f-4c56-8798-ef0845d28bd1",
   "metadata": {},
   "outputs": [],
   "source": []
  }
 ],
 "metadata": {
  "kernelspec": {
   "display_name": "Python 3 (ipykernel)",
   "language": "python",
   "name": "python3"
  },
  "language_info": {
   "codemirror_mode": {
    "name": "ipython",
    "version": 3
   },
   "file_extension": ".py",
   "mimetype": "text/x-python",
   "name": "python",
   "nbconvert_exporter": "python",
   "pygments_lexer": "ipython3",
   "version": "3.12.4"
  }
 },
 "nbformat": 4,
 "nbformat_minor": 5
}
