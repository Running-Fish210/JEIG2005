{
 "cells": [
  {
   "cell_type": "markdown",
   "id": "93e48f9c-1188-488a-81ad-5aae5fb2e10f",
   "metadata": {},
   "source": [
    "# 厚壁容器计算"
   ]
  },
  {
   "cell_type": "code",
   "execution_count": 79,
   "id": "d50006b7-8f7e-4a39-8093-d8e9dace8b61",
   "metadata": {},
   "outputs": [],
   "source": [
    "%reset -f\n",
    "import numpy as np\n",
    "from numpy.linalg.linalg import solve \n",
    "\n",
    "def f(ri, ro, pi, po, case, v=0.5, E=1*10**9, sy=200e6):\n",
    "    '''\n",
    "    这个函数用来计算厚壁容器\n",
    "    \n",
    "    ri, ro : 内径, 外径\n",
    "    pi, po: 内外压力, 压应力输入正值\n",
    "    case: 判断条件输入, cas1: 三轴应力状态, 输入1\n",
    "                      cas2: 活塞, 平面应力状态, z轴无应力, 仅有泊松比引起的轴向应变 输入2\n",
    "                      cas3: 约束, 平面应变状态, z轴无应变, 有应力 输入3\n",
    "    r: 待求位置半径\n",
    "    v, E: 泊松比和杨氏模量\n",
    "    sy: 许用最大应力\n",
    "    \n",
    "    注意!!!!!!  case r,v,E不影响 A,B 的计算结果, 如果只需要A,B 不必考虑这三个参数,输入非零值保证不报错即可\n",
    "    \n",
    "    返回结果数量级为10^6 是方程中的A,B\n",
    "    '''\n",
    "    C = np.array([[1, -1/ri**2],\n",
    "                  [1, -1/ro**2]])\n",
    "    b = np.array([[-pi, -po]]).T\n",
    "    x = solve(C,b)\n",
    "    A, B = x\n",
    "    print(f'A, B = {x.T / 1e6} 10^6\\n')\n",
    "    stress_r_ri, stress_h_ri = np.array([[1, -1/ri**2],[1, 1/ri**2]]) @ x # 内半径处的应力值\n",
    "    stress_r_ro, stress_h_ro = np.array([[1, -1/ro**2],[1, 1/ro**2]]) @ x # 外半径处的应力值\n",
    "    print(f'内径处 径向与环向应力分别为{stress_r_ri / 1e6}MPa, {stress_h_ri / 1e6}MPa')\n",
    "    print(f'外径处 径向与环向应力分别为{stress_r_ro / 1e6}MPa, {stress_h_ro / 1e6}MPa\\n')\n",
    "    k = ro / ri\n",
    "    if case == 1:\n",
    "        stress_z = (pi - po * k**2) / (k**2 - 1) \n",
    "        strain_z = (stress_z - 2 * A * v) / E\n",
    "        stress_ys = np.sqrt(((2 * B / ri**2)**2 + (stress_r_ri - stress_z)**2 + (stress_z - stress_h_ri)**2) / 2 )\n",
    "    elif case == 2:\n",
    "        stress_z = 0\n",
    "        strain_z = -v * 2 * A / E\n",
    "        stress_ys = np.sqrt(((2 * B / ri**2)**2 + (stress_r_ri - stress_z)**2 + (stress_z - stress_h_ri)**2) / 2 )\n",
    "    elif case == 3:\n",
    "        stress_z = 2 * A * v\n",
    "        strain_z = 0\n",
    "        stress_ys = np.sqrt(((2 * B / ri**2)**2 + (stress_r_ri - stress_z)**2 + (stress_z - stress_h_ri)**2) / 2 )\n",
    "    print(f'z轴应力 = {stress_z/1e6}MPa, 微应变 = {strain_z*10**6}, 如果没有指定可选参数值则忽略,这两个值没有意义\\n')\n",
    "    # Tresca Yield Criteria\n",
    "    print(f'Tresca [stress] = {2 * B / ri**2 / 1e6}MPa, 内外最大压差 [pi - po] = {(k**2 - 1) * sy / (2 * k**2) / 1e6}MPa\\n')\n",
    "    # Von Mises Yield Criteria\n",
    "    if case == 1:\n",
    "        pi_c = (k**2 - 1) * sy / (k**2 * np.sqrt(3))\n",
    "    elif case == 2:\n",
    "        pi_c = (k**2 - 1) * sy / np.sqrt(3 * k**4 + 1)\n",
    "    elif case == 3:\n",
    "        pi_c = (k**2 - 1) * sy / np.sqrt(3 * k**4 - 4 * v + 4 * v**2 + 1)\n",
    "    print(f\"\"\"Von Mises [stress] = {stress_ys / 1e6}MPa,\n",
    "    case1 情况下最大 [pi - po] = {pi_c / 1e6}MPa,\n",
    "    否则只有当外压为零时 最大许用 [pi] = {pi_c / 1e6}MPa\"\"\")\n",
    "    return x"
   ]
  },
  {
   "cell_type": "code",
   "execution_count": 81,
   "id": "331c1e57-e28b-42ad-97c9-ecbbd9d9f747",
   "metadata": {},
   "outputs": [
    {
     "ename": "SyntaxError",
     "evalue": "expected argument value expression (3135927162.py, line 1)",
     "output_type": "error",
     "traceback": [
      "\u001b[1;36m  Cell \u001b[1;32mIn[81], line 1\u001b[1;36m\u001b[0m\n\u001b[1;33m    A, B = f(ri=, ro=, pi=, po=, case=1, v=0.28, E=200e9, sy=650e6/3)\u001b[0m\n\u001b[1;37m             ^\u001b[0m\n\u001b[1;31mSyntaxError\u001b[0m\u001b[1;31m:\u001b[0m expected argument value expression\n"
     ]
    }
   ],
   "source": [
    "A, B = f(ri=, ro=, pi=, po=, case=1, v=0.28, E=200e9, sy=650e6/3)"
   ]
  },
  {
   "cell_type": "code",
   "execution_count": 83,
   "id": "7f90971b-ef35-4bee-a9c7-b62d946a21a8",
   "metadata": {},
   "outputs": [
    {
     "ename": "SyntaxError",
     "evalue": "expected argument value expression (1555051600.py, line 1)",
     "output_type": "error",
     "traceback": [
      "\u001b[1;36m  Cell \u001b[1;32mIn[83], line 1\u001b[1;36m\u001b[0m\n\u001b[1;33m    C, D = f(ri=, ro=, pi=, po=, case=1, v=0.28, E=200e9, sy=650e6/3)\u001b[0m\n\u001b[1;37m             ^\u001b[0m\n\u001b[1;31mSyntaxError\u001b[0m\u001b[1;31m:\u001b[0m expected argument value expression\n"
     ]
    }
   ],
   "source": [
    "C, D = f(ri=, ro=, pi=, po=, case=1, v=0.28, E=200e9, sy=650e6/3)"
   ]
  },
  {
   "cell_type": "code",
   "execution_count": 85,
   "id": "1d2bcaa7-3cd5-40a2-886f-2fc53a2f8509",
   "metadata": {},
   "outputs": [
    {
     "ename": "SyntaxError",
     "evalue": "expected argument value expression (2005285722.py, line 1)",
     "output_type": "error",
     "traceback": [
      "\u001b[1;36m  Cell \u001b[1;32mIn[85], line 1\u001b[1;36m\u001b[0m\n\u001b[1;33m    E, F = f(ri=, ro=, pi=, po=, case=1, v=0.28, E=200e9, sy=650e6/3)\u001b[0m\n\u001b[1;37m             ^\u001b[0m\n\u001b[1;31mSyntaxError\u001b[0m\u001b[1;31m:\u001b[0m expected argument value expression\n"
     ]
    }
   ],
   "source": [
    "E, F = f(ri=, ro=, pi=, po=, case=1, v=0.28, E=200e9, sy=650e6/3)"
   ]
  },
  {
   "cell_type": "code",
   "execution_count": 87,
   "id": "bb159046-d1af-4e96-8423-6a06a462ab20",
   "metadata": {},
   "outputs": [
    {
     "ename": "NameError",
     "evalue": "name 'A' is not defined",
     "output_type": "error",
     "traceback": [
      "\u001b[1;31m---------------------------------------------------------------------------\u001b[0m",
      "\u001b[1;31mNameError\u001b[0m                                 Traceback (most recent call last)",
      "Cell \u001b[1;32mIn[87], line 5\u001b[0m\n\u001b[0;32m      3\u001b[0m r1 \u001b[38;5;241m=\u001b[39m np\u001b[38;5;241m.\u001b[39marange(\u001b[38;5;241m0.06\u001b[39m, \u001b[38;5;241m0.08\u001b[39m \u001b[38;5;241m+\u001b[39m \u001b[38;5;241m1e-4\u001b[39m, \u001b[38;5;241m1e-4\u001b[39m)\n\u001b[0;32m      4\u001b[0m r2 \u001b[38;5;241m=\u001b[39m np\u001b[38;5;241m.\u001b[39marange(\u001b[38;5;241m0.08\u001b[39m, \u001b[38;5;241m0.1\u001b[39m \u001b[38;5;241m+\u001b[39m \u001b[38;5;241m1e-4\u001b[39m, \u001b[38;5;241m1e-4\u001b[39m)\n\u001b[1;32m----> 5\u001b[0m y1 \u001b[38;5;241m=\u001b[39m A \u001b[38;5;241m+\u001b[39m B  \u001b[38;5;241m/\u001b[39m r1\u001b[38;5;241m*\u001b[39m\u001b[38;5;241m*\u001b[39m\u001b[38;5;241m2\u001b[39m\n\u001b[0;32m      6\u001b[0m y2 \u001b[38;5;241m=\u001b[39m C \u001b[38;5;241m+\u001b[39m D \u001b[38;5;241m/\u001b[39m r2\u001b[38;5;241m*\u001b[39m\u001b[38;5;241m*\u001b[39m\u001b[38;5;241m2\u001b[39m\n\u001b[0;32m      8\u001b[0m plt\u001b[38;5;241m.\u001b[39mfigure(figsize\u001b[38;5;241m=\u001b[39m(\u001b[38;5;241m15\u001b[39m,\u001b[38;5;241m5\u001b[39m))  \n",
      "\u001b[1;31mNameError\u001b[0m: name 'A' is not defined"
     ]
    }
   ],
   "source": [
    "import matplotlib.pyplot as plt\n",
    "%matplotlib inline\n",
    "r1 = np.arange(0.06, 0.08 + 1e-4, 1e-4)\n",
    "r2 = np.arange(0.08, 0.1 + 1e-4, 1e-4)\n",
    "y1 = A + B  / r1**2\n",
    "y2 = C + D / r2**2\n",
    "\n",
    "plt.figure(figsize=(15,5))  \n",
    "ax1=plt.subplot(1, 2, 1) # the 3rd number specifies which of the subplots to plot\n",
    "plt.plot(r1,y1,'ko-')\n",
    "plt.xticks(fontsize=10)  \n",
    "plt.yticks(fontsize=10)\n",
    "plt.grid()\n",
    "\n",
    "ax2=plt.subplot(1, 2, 2)\n",
    "plt.plot(r2,y2,'ko-')\n",
    "plt.xticks(fontsize=10)  # x 轴刻度标签字体大小\n",
    "plt.yticks(fontsize=10)  # y 轴刻度标签字体大小\n",
    "plt.grid()\n",
    "\n"
   ]
  },
  {
   "cell_type": "code",
   "execution_count": 89,
   "id": "fd81e381-5e3a-4089-accb-12728f2e420b",
   "metadata": {},
   "outputs": [
    {
     "ename": "NameError",
     "evalue": "name 'E' is not defined",
     "output_type": "error",
     "traceback": [
      "\u001b[1;31m---------------------------------------------------------------------------\u001b[0m",
      "\u001b[1;31mNameError\u001b[0m                                 Traceback (most recent call last)",
      "Cell \u001b[1;32mIn[89], line 2\u001b[0m\n\u001b[0;32m      1\u001b[0m r3 \u001b[38;5;241m=\u001b[39m np\u001b[38;5;241m.\u001b[39marange(\u001b[38;5;241m0.06\u001b[39m, \u001b[38;5;241m0.1\u001b[39m \u001b[38;5;241m+\u001b[39m \u001b[38;5;241m1e-4\u001b[39m, \u001b[38;5;241m1e-4\u001b[39m)\n\u001b[1;32m----> 2\u001b[0m y3 \u001b[38;5;241m=\u001b[39m E \u001b[38;5;241m+\u001b[39m F\u001b[38;5;241m/\u001b[39mr3\u001b[38;5;241m*\u001b[39m\u001b[38;5;241m*\u001b[39m\u001b[38;5;241m2\u001b[39m\n\u001b[0;32m      3\u001b[0m plt\u001b[38;5;241m.\u001b[39mfigure(figsize\u001b[38;5;241m=\u001b[39m(\u001b[38;5;241m15\u001b[39m,\u001b[38;5;241m5\u001b[39m))  \n\u001b[0;32m      4\u001b[0m plt\u001b[38;5;241m.\u001b[39mplot(r3,y3,\u001b[38;5;124m'\u001b[39m\u001b[38;5;124mko-\u001b[39m\u001b[38;5;124m'\u001b[39m)\n",
      "\u001b[1;31mNameError\u001b[0m: name 'E' is not defined"
     ]
    }
   ],
   "source": [
    "r3 = np.arange(0.06, 0.1 + 1e-4, 1e-4)\n",
    "y3 = E + F/r3**2\n",
    "plt.figure(figsize=(15,5))  \n",
    "plt.plot(r3,y3,'ko-')\n",
    "plt.xticks(fontsize=10)  \n",
    "plt.yticks(fontsize=10)\n",
    "plt.grid()"
   ]
  },
  {
   "cell_type": "code",
   "execution_count": 91,
   "id": "4ee6dee3-d439-4eea-a430-306394c5723d",
   "metadata": {},
   "outputs": [
    {
     "ename": "NameError",
     "evalue": "name 'A' is not defined",
     "output_type": "error",
     "traceback": [
      "\u001b[1;31m---------------------------------------------------------------------------\u001b[0m",
      "\u001b[1;31mNameError\u001b[0m                                 Traceback (most recent call last)",
      "Cell \u001b[1;32mIn[91], line 1\u001b[0m\n\u001b[1;32m----> 1\u001b[0m y3 \u001b[38;5;241m=\u001b[39m A \u001b[38;5;241m+\u001b[39m E \u001b[38;5;241m+\u001b[39m (B \u001b[38;5;241m+\u001b[39m F) \u001b[38;5;241m/\u001b[39m r1\u001b[38;5;241m*\u001b[39m\u001b[38;5;241m*\u001b[39m\u001b[38;5;241m2\u001b[39m\n\u001b[0;32m      2\u001b[0m y4 \u001b[38;5;241m=\u001b[39m C \u001b[38;5;241m+\u001b[39m E \u001b[38;5;241m+\u001b[39m (D \u001b[38;5;241m+\u001b[39m F) \u001b[38;5;241m/\u001b[39m r2\u001b[38;5;241m*\u001b[39m\u001b[38;5;241m*\u001b[39m\u001b[38;5;241m2\u001b[39m\n\u001b[0;32m      4\u001b[0m plt\u001b[38;5;241m.\u001b[39mfigure(figsize\u001b[38;5;241m=\u001b[39m(\u001b[38;5;241m15\u001b[39m,\u001b[38;5;241m5\u001b[39m))  \n",
      "\u001b[1;31mNameError\u001b[0m: name 'A' is not defined"
     ]
    }
   ],
   "source": [
    "y3 = A + E + (B + F) / r1**2\n",
    "y4 = C + E + (D + F) / r2**2\n",
    "\n",
    "plt.figure(figsize=(15,5))  \n",
    "ax1=plt.subplot(1, 2, 1) # the 3rd number specifies which of the subplots to plot\n",
    "plt.plot(r1,y3,'ko-')\n",
    "plt.xticks(fontsize=10)  \n",
    "plt.yticks(fontsize=10)\n",
    "plt.grid()\n",
    "\n",
    "ax2=plt.subplot(1, 2, 2)\n",
    "plt.plot(r2,y4,'ko-')\n",
    "plt.xticks(fontsize=10)  # x 轴刻度标签字体大小\n",
    "plt.yticks(fontsize=10)  # y 轴刻度标签字体大小\n",
    "plt.grid()\n",
    "print(y1/1e6)\n",
    "print(y2/1e6)\n"
   ]
  },
  {
   "cell_type": "code",
   "execution_count": null,
   "id": "a24643da-8a29-479d-bcb3-e5095c15fb25",
   "metadata": {},
   "outputs": [],
   "source": []
  }
 ],
 "metadata": {
  "kernelspec": {
   "display_name": "Python 3 (ipykernel)",
   "language": "python",
   "name": "python3"
  },
  "language_info": {
   "codemirror_mode": {
    "name": "ipython",
    "version": 3
   },
   "file_extension": ".py",
   "mimetype": "text/x-python",
   "name": "python",
   "nbconvert_exporter": "python",
   "pygments_lexer": "ipython3",
   "version": "3.12.4"
  }
 },
 "nbformat": 4,
 "nbformat_minor": 5
}
