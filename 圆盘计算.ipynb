{
 "cells": [
  {
   "cell_type": "markdown",
   "id": "e039aed4-6b4a-4714-b2f1-e7218ded42c4",
   "metadata": {},
   "source": [
    "# 圆盘计算"
   ]
  },
  {
   "cell_type": "code",
   "execution_count": 25,
   "id": "b77553d8-3096-409f-b293-e2702eca68b4",
   "metadata": {},
   "outputs": [
    {
     "name": "stdout",
     "output_type": "stream",
     "text": [
      "A, B = [[5.11166551e+04 2.83107628e+00]]\n",
      "\n",
      "最大环向应力 = [0.10098263]MPa, at ri = 0.0075m\n",
      "\n",
      "最大径向应力 = [0.03853409]MPa, at rm = 0.021213203435596427m\n",
      "\n",
      "Von Mises Criteria = [0.10098263]MPa\n",
      "\n",
      "Tresca Criteria = [0.10098263]MPa\n",
      "\n",
      "r = 0.06m 处的径向与环向应力分别为 [0.]MPa, [0.02219003]MPa\n",
      "    若没有指定r值, 则此行结果无需考虑\n"
     ]
    }
   ],
   "source": [
    "%reset -f\n",
    "import numpy as np\n",
    "from numpy.linalg.linalg import solve \n",
    "def disk(ri, ro, d, w, v, r, pi, po):\n",
    "    '''\n",
    "    ri: 内径\n",
    "    ro: 外径\n",
    "    d : 密度\n",
    "    w : 角速度\n",
    "    v : 泊松比\n",
    "    r : 待求位置半径\n",
    "    pi, po: 内外压强 这里指圆盘受到的压力 应该考虑符号\n",
    "    '''\n",
    "    if ri == 0: # 圆盘 ri = 0\n",
    "        A = (3 + v) * d * ro**2 * w**2 / 8 + po\n",
    "        x = np.array([[A, 0]])\n",
    "        # 最大应力值在 ri = 0 处\n",
    "        shm = A\n",
    "        srm = A\n",
    "        rm = ri\n",
    "    else: # 圆环\n",
    "        C = np.array([[1, -1/ri**2],[1, -1/ro**2]])\n",
    "        b = np.array([[pi + (3 + v) * d * ri**2 * w**2 / 8, po + (3 + v) * d * ro**2 * w**2 / 8]]).T\n",
    "        x = solve(C,b)\n",
    "        \n",
    "        # 环向最大应力在内径 ri 处\n",
    "        shm = (x[0] + x[1] / ri**2 - (1 + 3*v) * d * ri**2 * w**2 / 8)\n",
    "        # 径向最大应力在 dsr/dr = 0  既 r = sqrt(ri x ro) 处\n",
    "        rm = np.sqrt(ri * ro)\n",
    "        srm = (x[0] - x[1] / rm**2 - (3 + v) * d * rm**2 * w**2 / 8)\n",
    "        \n",
    "    VonStress = np.sqrt(((shm - pi)**2 + pi**2 + shm**2) / 2)\n",
    "    Tresca = shm - pi\n",
    "        \n",
    "    sr = x[0] - x[1]/r**2 - (3 + v) * d * r**2 * w**2 / 8\n",
    "    sh = x[0] + x[1]/r**2 - (1 + 3*v) * d * r**2 * w**2 / 8\n",
    "        \n",
    "    print(f'A, B = {x.T}\\n')\n",
    "    print(f'最大环向应力 = {shm / 1e6}MPa, at ri = {ri}m\\n')\n",
    "    print(f'最大径向应力 = {srm / 1e6}MPa, at rm = {rm}m\\n')\n",
    "    print(f'Von Mises Criteria = {VonStress / 1e6}MPa\\n')\n",
    "    print(f'Tresca Criteria = {Tresca / 1e6}MPa\\n')\n",
    "    print(f'''r = {r}m 处的径向与环向应力分别为 {sr / 1e6}MPa, {sh / 1e6}MPa\n",
    "    若没有指定r值, 则此行结果无需考虑''')\n",
    "    return x\n",
    "\n",
    "A, B = disk(ri=0.015/2, ro=0.12/2, d=1200, w=1600 * 2 * np.pi / 60, v=0.32, r=0.06, pi=0, po=0)"
   ]
  },
  {
   "cell_type": "code",
   "execution_count": null,
   "id": "b1f44e28-afc6-443a-96f0-105350e0ac9c",
   "metadata": {},
   "outputs": [],
   "source": []
  },
  {
   "cell_type": "code",
   "execution_count": 41,
   "id": "97765353-e974-48ab-8678-53fbc5d90681",
   "metadata": {},
   "outputs": [
    {
     "name": "stdout",
     "output_type": "stream",
     "text": [
      "[[-11.05735723]\n",
      " [104.5466968 ]\n",
      " [  7.22525338]\n",
      " [  0.11804321]]\n",
      "[343.57416253]\n"
     ]
    }
   ],
   "source": [
    "rm = 0.25\n",
    "ro = 0.356\n",
    "d = 7750\n",
    "v = 0.28\n",
    "A = np.array([[1, 0, 0, -(3+v)/8*d*rm**2],\n",
    "              [0, 1, -1/rm**2, -(3+v)/8*d*rm**2],\n",
    "              [0, 1, 1/rm**2, -(1+3*v)/8*d*rm**2],\n",
    "              [0, 1, -1/ro**2, -(3+v)/8*d*ro**2]])\n",
    "b = np.array([[-34.5, -34.5, 207, 0]]).T * 1e6\n",
    "x = solve(A,b)\n",
    "w = np.sqrt(x[3])\n",
    "print(x/1e6)\n",
    "print(w)"
   ]
  },
  {
   "cell_type": "code",
   "execution_count": null,
   "id": "5014c245-ea52-44cd-944a-c0eab02a4d26",
   "metadata": {},
   "outputs": [],
   "source": []
  }
 ],
 "metadata": {
  "kernelspec": {
   "display_name": "Python 3 (ipykernel)",
   "language": "python",
   "name": "python3"
  },
  "language_info": {
   "codemirror_mode": {
    "name": "ipython",
    "version": 3
   },
   "file_extension": ".py",
   "mimetype": "text/x-python",
   "name": "python",
   "nbconvert_exporter": "python",
   "pygments_lexer": "ipython3",
   "version": "3.12.4"
  }
 },
 "nbformat": 4,
 "nbformat_minor": 5
}
