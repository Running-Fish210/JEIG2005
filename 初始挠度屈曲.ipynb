{
 "cells": [
  {
   "cell_type": "code",
   "execution_count": 31,
   "id": "bc044a6f-fbdc-4a3c-82c2-dffede48f752",
   "metadata": {},
   "outputs": [
    {
     "name": "stdout",
     "output_type": "stream",
     "text": [
      "回转半径 k = 0.003\n",
      "欧拉屈曲 Pc = 0.7233144223980341 = 0.723kN\n",
      "初始挠度 = 6.653449363603649mm\n"
     ]
    }
   ],
   "source": [
    "import numpy as np\n",
    "\n",
    "def F1(a, y, A, Pc, P):\n",
    "    '''\n",
    "    已知力，求位移和应力\n",
    "    '''\n",
    "    v_max = a * Pc / (Pc - P)\n",
    "    s_max = P/A * (1 + v_max * y / k**2)\n",
    "    print(f'最大位移 = {v_max*1e3}mm')\n",
    "    print(f'最大应力 = {s_max/1e6}MPa')\n",
    "\n",
    "def F2(a, y, A, Pc, s_max):\n",
    "    '''\n",
    "    已知最大应力，求最大载荷\n",
    "    '''\n",
    "    P1, P2, P3 = Pc, Pc/2, 0\n",
    "    v_max = a * Pc / (Pc - P2)\n",
    "    s = P2/A * (1 + v_max * y / k**2)    \n",
    "    while np.abs(s-s_max) > 0.001:\n",
    "        if s > s_max:\n",
    "            P1 = P2\n",
    "            P2 = (P2 + P3)/2 \n",
    "            v_max = a * Pc / (Pc - P2)\n",
    "            s = P2/A * (1 + v_max * y / k**2)\n",
    "        elif s < s_max:\n",
    "            P3 = P2\n",
    "            P2 = (P1 + P2)/2\n",
    "            v_max = a * Pc / (Pc - P2)\n",
    "            s = P2/A * (1 + v_max * y / k**2)\n",
    "    v_max = v_max = a * Pc / (Pc - P2)\n",
    "    print(f'最大载荷为 = {P2/1e3} = {np.round(P2/1e3,3)}kN')\n",
    "    print(f'最大挠度 = {v_max*1e3} = {np.round(v_max*1e3,3)}mm')\n",
    "\n",
    "\n",
    "def F3(Pc, P, v_max):\n",
    "    '''\n",
    "    已知最大挠度，求初始挠度\n",
    "    '''\n",
    "    a_0 = v_max * (Pc - P) / Pc \n",
    "    print(f'初始挠度 = {a_0}m')\n",
    "\n",
    "def F4(Pc, P, s_max):\n",
    "    '''\n",
    "    已知最大应力，求初始挠度\n",
    "    '''\n",
    "    a_0 = (s_max * A / P - 1) * k**2 / y * (Pc - P) / Pc\n",
    "    print(f'初始挠度 = {a_0 * 1e3}mm')\n",
    "    \n",
    "'''-------------------------—---分割线----------------------------------'''\n",
    "\n",
    "pi = np.pi\n",
    "A = pi * (0.012**2 - 0**2)/4\n",
    "I = pi * (0.012**4 - 0**4)/64\n",
    "E = 72e9\n",
    "L = 1\n",
    "y = 0.012 / 2\n",
    "k = np.sqrt(I / A)\n",
    "Pc = pi**2 * E * I / (1 * L)**2\n",
    "a = 5e-3\n",
    "\n",
    "'''-------------------------—---分割线----------------------------------'''\n",
    "\n",
    "print(f'回转半径 k = {k}')\n",
    "print(f'欧拉屈曲 Pc = {Pc/1e3} = {np.round(Pc/1e3,3)}kN')\n",
    "\n",
    "#\"\"\" 已知力，求位移和应力 \"\"\"\n",
    "#F1(a, y, A, Pc, P = 1.6 * 1.5 * 9.81)\n",
    "\n",
    "#\"\"\" 已知最大应力，求最大载荷 和 初始挠度\"\"\"\n",
    "#F2(a, y, A, Pc, s_max = 500e6)\n",
    "\n",
    "#\"\"\" 已知最大挠度，求初始挠度 \"\"\"\n",
    "#F3(Pc, P = 1.6 * 1.5 * 9.81, v_max = 124.82e-3)\n",
    "\n",
    "#\"\"\" 已知最大应力，求初始挠度 \"\"\"\n",
    "F4(Pc, P = 600, s_max = 430e6 / 3)\n"
   ]
  },
  {
   "cell_type": "code",
   "execution_count": null,
   "id": "bfccdc84-3177-40fe-86f7-251eab0a2275",
   "metadata": {},
   "outputs": [],
   "source": []
  }
 ],
 "metadata": {
  "kernelspec": {
   "display_name": "Python 3 (ipykernel)",
   "language": "python",
   "name": "python3"
  },
  "language_info": {
   "codemirror_mode": {
    "name": "ipython",
    "version": 3
   },
   "file_extension": ".py",
   "mimetype": "text/x-python",
   "name": "python",
   "nbconvert_exporter": "python",
   "pygments_lexer": "ipython3",
   "version": "3.12.4"
  }
 },
 "nbformat": 4,
 "nbformat_minor": 5
}
