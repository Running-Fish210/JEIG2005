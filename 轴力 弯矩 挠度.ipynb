{
 "cells": [
  {
   "cell_type": "code",
   "execution_count": null,
   "id": "759932b5-f346-464f-88e7-dd79169c28c1",
   "metadata": {},
   "outputs": [],
   "source": [
    "%reset -f\n",
    "import numpy as np\n",
    "from scipy.integrate import quad\n",
    "pi = np.pi\n",
    "cos, sin, tan = np.cos, np.sin, np.tan\n",
    "arccos, arcsin, arctan = np.arccos, np.arcsin, np.arctan"
   ]
  },
  {
   "cell_type": "code",
   "execution_count": null,
   "id": "b8fdbf87-50cb-4a9c-b856-bf6eadd11cac",
   "metadata": {},
   "outputs": [],
   "source": [
    "\n",
    "Iyy = \n",
    "Izz = \n",
    "Iyz =\n",
    "E = \n",
    "\n",
    "print(f'Iyy = {Iyy}')\n",
    "print(f'Izz = {Iyy}')\n",
    "print(f'Iyz = {Iyz}')\n",
    "\n",
    "# 定义弯矩函数\n",
    "Mz = lambda x: -p * 312 + p * x\n",
    "My = lambda x: -p * 312 + p * x\n",
    "\n",
    "# 中性轴位置\n",
    "l = \n",
    "k = -(My(l) * Izz - Mz(l) * Iyz) / (Mz(l) * Iy - My(l) * Iyz)\n",
    "phi = arctan(k)\n",
    "print(f'phi: {phi * 180 / pi}')\n",
    "print(f'斜率: {k}')\n",
    "\n",
    "# 定义拉应力函数\n",
    "sigma_xx = lambda x,y,z: ((Mz(x)*Iyy - My(x)*Iyz)*y + (My(x)*Izz - Mz(x)*Iyz)*z) / (Iyy * Izz - Iyz**2)\n",
    "print(f'最大拉应力: {sigma_xx(0,-8.925e-3, 2.175e-3)/1e6}')\n",
    "\n",
    "# 定义挠度的二次导数函数\n",
    "\n",
    "ddv = lambda x:-(Mz(x) * Iyy - My(x) * Iyz) / (E * (Iyy * Izz -Iyz**2))\n",
    "ddw = lambda x:-(My(x) * Izz - Mz(x) * Iyz) / (E * (Iyy * Izz -Iyz**2))\n",
    "\n"
   ]
  },
  {
   "cell_type": "code",
   "execution_count": null,
   "id": "5e707646-d7ad-4543-8db5-41d963b3c17b",
   "metadata": {},
   "outputs": [],
   "source": [
    "# 悬臂梁挠度不定积分的实现\n",
    "dv = lambda x:quad(ddv, 0, x)[0]\n",
    "v = lambda x:quad(dv, 0, x)[0]   \n",
    "dw = lambda x:quad(ddw, 0, x)[0]\n",
    "w = lambda x:quad(dw, 0, x)[0]\n",
    "\n",
    "x = 0.306\n",
    "\n",
    "print(f'y挠度:{v(x) * 1e3}mm')\n",
    "print(f'y斜率:{dv(x)}')\n",
    "print(f'w挠度:{w(x) * 1e3}mm')\n",
    "print(f'w斜率:{dw(x)}')\n",
    "print(f'总挠度:{np.sqrt(v(x)**2 + w(x)**2) * 1e3}mm')"
   ]
  },
  {
   "cell_type": "code",
   "execution_count": null,
   "id": "46a855de-d2c4-42c0-b27a-7244bdd4c775",
   "metadata": {},
   "outputs": [],
   "source": [
    "# 简支梁挠度不定积分\n",
    "L = \n",
    "\n",
    "dv = lambda x:quad(ddv, 0, x)[0]\n",
    "dw = lambda x:quad(ddw, 0, x)[0]\n",
    "\n",
    "c_v = -quad(dv, 0, L)[0] / L\n",
    "c_w = -quad(dw, 0, L)[0] / L\n",
    "\n",
    "dv = lambda x:quad(ddv, 0, x)[0] + c_v\n",
    "dw = lambda x:quad(ddw, 0, x)[0] + c_w\n",
    "\n",
    "v = lambda x:quad(dv, 0, x)[0]\n",
    "w = lambda x:quad(dw, 0, x)[0]\n",
    "\n",
    "print(f'y挠度:{v(x) * 1e3}mm')\n",
    "print(f'y斜率:{dv(x)}')\n",
    "print(f'w挠度:{w(x) * 1e3}mm')\n",
    "print(f'w斜率:{dw(x)}')\n",
    "print(f'总挠度:{np.sqrt(v(x)**2 + w(x)**2) * 1e3}mm')"
   ]
  }
 ],
 "metadata": {
  "kernelspec": {
   "display_name": "Python 3 (ipykernel)",
   "language": "python",
   "name": "python3"
  },
  "language_info": {
   "codemirror_mode": {
    "name": "ipython",
    "version": 3
   },
   "file_extension": ".py",
   "mimetype": "text/x-python",
   "name": "python",
   "nbconvert_exporter": "python",
   "pygments_lexer": "ipython3",
   "version": "3.12.4"
  }
 },
 "nbformat": 4,
 "nbformat_minor": 5
}
